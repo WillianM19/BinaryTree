{
 "cells": [
  {
   "cell_type": "markdown",
   "metadata": {},
   "source": [
    "# 1. Criação da arvore binária"
   ]
  },
  {
   "cell_type": "code",
   "execution_count": 1,
   "metadata": {},
   "outputs": [],
   "source": [
    "# Criando arvore\n",
    "class Node:\n",
    "    def __init__(self, value):\n",
    "        self.value = value\n",
    "        self.left = None\n",
    "        self.right = None\n",
    "\n",
    "def search(root, value):\n",
    "    if root is None:\n",
    "        return 0\n",
    "\n",
    "    if value == root.value:\n",
    "        return 1\n",
    "\n",
    "    if value < root.value:\n",
    "        if root.left is None:\n",
    "            return 2\n",
    "        return search(root.left, value)\n",
    "\n",
    "    if value > root.value:\n",
    "        if root.right is None:\n",
    "            return 3\n",
    "        return search(root.right, value)\n",
    "\n",
    "def insert(root, value):\n",
    "    # Verifica se o valor já existe usando a função search\n",
    "    result = search(root, value)\n",
    "\n",
    "    if result == 1:  # Valor já existe, não insere\n",
    "        return root\n",
    "\n",
    "    # Se o valor não foi encontrado, insere o nó na posição correta\n",
    "    if root is None:\n",
    "        return Node(value)\n",
    "\n",
    "    if value < root.value:\n",
    "        root.left = insert(root.left, value)\n",
    "    else:\n",
    "        root.right = insert(root.right, value)\n",
    "\n",
    "    return root\n",
    "\n",
    "def create_tree(tamanho):\n",
    "    root = None\n",
    "    for index in range(tamanho):\n",
    "        value = int(input(f\"Digite o valor do nó ({index + 1}/{tamanho}): \"))\n",
    "        root = insert(root, value)\n",
    "    return root\n",
    "\n",
    "tamanho = int(input(\"Digite o tamanho da árvore: \"))\n",
    "arvore = create_tree(tamanho)"
   ]
  },
  {
   "cell_type": "markdown",
   "metadata": {},
   "source": [
    "# 2. Fazendo a busca na arvore"
   ]
  },
  {
   "cell_type": "code",
   "execution_count": 30,
   "metadata": {},
   "outputs": [
    {
     "name": "stdout",
     "output_type": "stream",
     "text": [
      "Valor encontrado\n"
     ]
    }
   ],
   "source": [
    "\n",
    "search_num = int(input(\"Digite o valor a ser buscado: \"))\n",
    "resultado_busca = search(arvore, search_num)\n",
    "if resultado_busca == 0:\n",
    "    print(\"Árvore vazia\")\n",
    "elif resultado_busca == 1:\n",
    "    print(\"Valor encontrado\")"
   ]
  },
  {
   "cell_type": "markdown",
   "metadata": {},
   "source": [
    "# 3. Imprimindo a Arvore"
   ]
  },
  {
   "cell_type": "code",
   "execution_count": 7,
   "metadata": {},
   "outputs": [
    {
     "name": "stdout",
     "output_type": "stream",
     "text": [
      "1\n",
      "-3\n"
     ]
    }
   ],
   "source": [
    "def print_arvore(root, level=0):\n",
    "    if root is not None:\n",
    "        print('-' * level + str(root.value))  # Imprime o valor com a indentação correspondente ao nível\n",
    "        print_arvore(root.left, level + 1)  # Chama recursivamente para o lado esquerdo\n",
    "        print_arvore(root.right, level + 1)  # Chama recursivamente para o lado direito\n",
    "\n",
    "\n",
    "print_arvore(arvore)\n"
   ]
  },
  {
   "cell_type": "markdown",
   "metadata": {},
   "source": [
    "# 4. Contagem de nós"
   ]
  },
  {
   "cell_type": "code",
   "execution_count": 19,
   "metadata": {},
   "outputs": [
    {
     "name": "stdout",
     "output_type": "stream",
     "text": [
      "Número de nós: 9\n"
     ]
    }
   ],
   "source": [
    "def count_nodes(root):\n",
    "    if root is None:\n",
    "        return 0\n",
    "    return 1 + count_nodes(root.left) + count_nodes(root.right)\n",
    "\n",
    "print(\"Número de nós:\", count_nodes(arvore))\n"
   ]
  },
  {
   "cell_type": "markdown",
   "metadata": {},
   "source": [
    "# 5. Contagem de Folhas "
   ]
  },
  {
   "cell_type": "code",
   "execution_count": 20,
   "metadata": {},
   "outputs": [
    {
     "name": "stdout",
     "output_type": "stream",
     "text": [
      "Número de folhas: 3\n"
     ]
    }
   ],
   "source": [
    "def count_leaves(root):\n",
    "    if root is None:\n",
    "        return 0\n",
    "    if root.left is None and root.right is None:\n",
    "        return 1\n",
    "    return count_leaves(root.left) + count_leaves(root.right)\n",
    "\n",
    "print(\"Número de folhas:\", count_leaves(arvore))\n"
   ]
  },
  {
   "cell_type": "markdown",
   "metadata": {},
   "source": [
    "# 6. Remoção"
   ]
  },
  {
   "cell_type": "code",
   "execution_count": null,
   "metadata": {},
   "outputs": [
    {
     "name": "stdout",
     "output_type": "stream",
     "text": [
      "1\n",
      "-3\n"
     ]
    }
   ],
   "source": [
    "def remove(root, value):\n",
    "    if root is None:\n",
    "        return root\n",
    "\n",
    "    # Se o valor a ser removido é menor que o valor da raiz,\n",
    "    # então ele está na subárvore esquerda\n",
    "    if value < root.value:\n",
    "        root.left = remove(root.left, value)\n",
    "\n",
    "    # Se o valor a ser removido é maior que o valor da raiz,\n",
    "    # então ele está na subárvore direita\n",
    "    elif value > root.value:\n",
    "        root.right = remove(root.right, value)\n",
    "\n",
    "    # Se o valor é igual ao valor da raiz, este é o nó a ser removido\n",
    "    else:\n",
    "        # Nó com um único filho ou nenhum\n",
    "        if root.left is None:\n",
    "            temp = root.right\n",
    "            root = None\n",
    "            return temp\n",
    "        elif root.right is None:\n",
    "            temp = root.left\n",
    "            root = None\n",
    "            return temp\n",
    "\n",
    "        # Nó com dois filhos\n",
    "        temp = find_min(root.right)\n",
    "\n",
    "        # Copia o conteúdo do sucessor para este nó\n",
    "        root.value = temp.value\n",
    "\n",
    "        # Remove o sucessor\n",
    "        root.right = remove(root.right, temp.value)\n",
    "\n",
    "    return root\n",
    "\n",
    "def find_min(node):\n",
    "    current = node\n",
    "    while current.left is not None:\n",
    "        current = current.left\n",
    "    return current\n",
    "\n",
    "remove_value = int(input(\"Digite o valor a ser removido:\"))\n",
    "remove(arvore, remove_value)\n",
    "\n",
    "print_arvore(arvore)"
   ]
  },
  {
   "cell_type": "markdown",
   "metadata": {},
   "source": [
    "# 7. Percurso (Pré-ordem)\n"
   ]
  },
  {
   "cell_type": "code",
   "execution_count": 8,
   "metadata": {},
   "outputs": [
    {
     "name": "stdout",
     "output_type": "stream",
     "text": [
      "Pré ordem\n",
      "1 3 "
     ]
    }
   ],
   "source": [
    "def pre_order(root):\n",
    "    if root is not None:\n",
    "        # Visita o nó atual\n",
    "        print(root.value, end=\" \")  # Realiza a visita (neste caso, imprime o valor)\n",
    "\n",
    "        # Verifica e percorre a esquerda\n",
    "        if root.left is not None:\n",
    "            pre_order(root.left)\n",
    "\n",
    "        # Verifica e percorre a direita\n",
    "        if root.right is not None:\n",
    "            pre_order(root.right)\n",
    "\n",
    "print(\"Pré ordem\")\n",
    "pre_order(arvore)"
   ]
  },
  {
   "cell_type": "markdown",
   "metadata": {},
   "source": [
    "# 7.2 Percurso (Simétrico)\n",
    "\n",
    "\n",
    "\n"
   ]
  },
  {
   "cell_type": "code",
   "execution_count": 9,
   "metadata": {},
   "outputs": [
    {
     "name": "stdout",
     "output_type": "stream",
     "text": [
      "Simétrico\n",
      "1 3 "
     ]
    }
   ],
   "source": [
    "def symmetrical(root):\n",
    "    if root is not None:\n",
    "        # Verifica e percorre a esquerda\n",
    "        if root.left is not None:\n",
    "            symmetrical(root.left)\n",
    "\n",
    "        # Visita o nó atual\n",
    "        print(root.value, end=\" \")  # Realiza a visita (neste caso, imprime o valor)\n",
    "\n",
    "        # Verifica e percorre a direita\n",
    "        if root.right is not None:\n",
    "            symmetrical(root.right)\n",
    "\n",
    "print(\"Simétrico\")\n",
    "symmetrical(arvore)"
   ]
  },
  {
   "cell_type": "markdown",
   "metadata": {},
   "source": [
    "# 7.3 Percurso (Pós Ordem)"
   ]
  },
  {
   "cell_type": "code",
   "execution_count": 10,
   "metadata": {},
   "outputs": [
    {
     "name": "stdout",
     "output_type": "stream",
     "text": [
      "Pós Ordem\n",
      "3 1 "
     ]
    }
   ],
   "source": [
    "def pos_order(root):\n",
    "    if root is not None:\n",
    "        # Verifica e percorre a esquerda\n",
    "        if root.left is not None:\n",
    "            pre_order(root.left)\n",
    "\n",
    "        # Verifica e percorre a direita\n",
    "        if root.right is not None:\n",
    "            pre_order(root.right)\n",
    "\n",
    "        # Visita o nó atual\n",
    "        print(root.value, end=\" \")  # Realiza a visita (neste caso, imprime o valor)\n",
    "\n",
    "print(\"Pós Ordem\")\n",
    "pos_order(arvore)"
   ]
  }
 ],
 "metadata": {
  "kernelspec": {
   "display_name": "Python 3",
   "language": "python",
   "name": "python3"
  },
  "language_info": {
   "codemirror_mode": {
    "name": "ipython",
    "version": 3
   },
   "file_extension": ".py",
   "mimetype": "text/x-python",
   "name": "python",
   "nbconvert_exporter": "python",
   "pygments_lexer": "ipython3",
   "version": "3.12.4"
  }
 },
 "nbformat": 4,
 "nbformat_minor": 2
}
