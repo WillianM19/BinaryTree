{
 "cells": [
  {
   "cell_type": "markdown",
   "metadata": {},
   "source": [
    "# 1. Criação da arvore binária"
   ]
  },
  {
   "cell_type": "code",
   "execution_count": 51,
   "metadata": {},
   "outputs": [],
   "source": [
    "# Criando arvore\n",
    "class Node:\n",
    "    def __init__(self, value):\n",
    "        self.value = value\n",
    "        self.left = None\n",
    "        self.right = None\n",
    "\n",
    "def insert(root, value):\n",
    "    if root is None:\n",
    "        return Node(value)\n",
    "    if value < root.value:\n",
    "        root.left = insert(root.left, value)\n",
    "    else:\n",
    "        root.right = insert(root.right, value)\n",
    "    return root\n",
    "\n",
    "def create_tree(tamanho):\n",
    "    root = None\n",
    "    for index in range(tamanho):\n",
    "        value = int(input(f\"Digite o valor do nó ({index + 1}/{tamanho}): \"))\n",
    "        root = insert(root, value)\n",
    "    return root\n",
    "\n",
    "tamanho = int(input(\"Digite o tamanho da árvore: \"))\n",
    "arvore = create_tree(tamanho)"
   ]
  },
  {
   "cell_type": "markdown",
   "metadata": {},
   "source": [
    "# 2. Fazendo a busca na arvore"
   ]
  },
  {
   "cell_type": "code",
   "execution_count": 52,
   "metadata": {},
   "outputs": [
    {
     "name": "stdout",
     "output_type": "stream",
     "text": [
      "Valor encontrado\n"
     ]
    }
   ],
   "source": [
    "def search(x, ptRaiz):\n",
    "    if ptRaiz is None:\n",
    "        return 0\n",
    "\n",
    "    if x == ptRaiz.value:\n",
    "        return 1\n",
    "\n",
    "    if x < ptRaiz.value:\n",
    "        if ptRaiz.left is None:\n",
    "            return 2\n",
    "        return search(x, ptRaiz.left)\n",
    "\n",
    "    if x > ptRaiz.value:\n",
    "        if ptRaiz.right is None:\n",
    "            return 3 \n",
    "        return search(x, ptRaiz.right)\n",
    "\n",
    "\n",
    "search_num = int(input(\"Digite o valor a ser buscado: \"))\n",
    "resultado_busca = search(search_num, arvore)\n",
    "if resultado_busca == 0:\n",
    "    print(\"Árvore vazia\")\n",
    "elif resultado_busca == 1:\n",
    "    print(\"Valor encontrado\")\n",
    "elif resultado_busca == 2:\n",
    "    print(\"Procurando no lado esquerdo\")\n",
    "elif resultado_busca == 3:\n",
    "    print(\"Procurando no lado direito\")"
   ]
  },
  {
   "cell_type": "markdown",
   "metadata": {},
   "source": [
    "# 3. Imprimindo a Arvore"
   ]
  },
  {
   "cell_type": "code",
   "execution_count": 53,
   "metadata": {},
   "outputs": [
    {
     "name": "stdout",
     "output_type": "stream",
     "text": [
      "24598102\n",
      "-12\n",
      "--1\n",
      "---3\n",
      "----5\n",
      "-----5\n",
      "--22\n",
      "---12\n",
      "---34\n",
      "----234\n"
     ]
    }
   ],
   "source": [
    "def print_arvore(root, level=0):\n",
    "    if root is not None:\n",
    "        print('-' * level + str(root.value))  # Imprime o valor com a indentação correspondente ao nível\n",
    "        print_arvore(root.left, level + 1)  # Chama recursivamente para o lado esquerdo\n",
    "        print_arvore(root.right, level + 1)  # Chama recursivamente para o lado direito\n",
    "\n",
    "\n",
    "print_arvore(arvore)\n"
   ]
  },
  {
   "cell_type": "markdown",
   "metadata": {},
   "source": [
    "# 4. Contagem de nós"
   ]
  },
  {
   "cell_type": "code",
   "execution_count": 54,
   "metadata": {},
   "outputs": [
    {
     "name": "stdout",
     "output_type": "stream",
     "text": [
      "Número de nós: 10\n"
     ]
    }
   ],
   "source": [
    "def count_nodes(root):\n",
    "    if root is None:\n",
    "        return 0\n",
    "    return 1 + count_nodes(root.left) + count_nodes(root.right)\n",
    "\n",
    "print(\"Número de nós:\", count_nodes(arvore))\n"
   ]
  },
  {
   "cell_type": "markdown",
   "metadata": {},
   "source": [
    "# 5. Contagem de Folhas "
   ]
  },
  {
   "cell_type": "code",
   "execution_count": 55,
   "metadata": {},
   "outputs": [
    {
     "name": "stdout",
     "output_type": "stream",
     "text": [
      "Número de folhas: 3\n"
     ]
    }
   ],
   "source": [
    "def count_leaves(root):\n",
    "    if root is None:\n",
    "        return 0\n",
    "    if root.left is None and root.right is None:\n",
    "        return 1\n",
    "    return count_leaves(root.left) + count_leaves(root.right)\n",
    "\n",
    "print(\"Número de folhas:\", count_leaves(arvore))\n"
   ]
  }
 ],
 "metadata": {
  "kernelspec": {
   "display_name": "Python 3",
   "language": "python",
   "name": "python3"
  },
  "language_info": {
   "codemirror_mode": {
    "name": "ipython",
    "version": 3
   },
   "file_extension": ".py",
   "mimetype": "text/x-python",
   "name": "python",
   "nbconvert_exporter": "python",
   "pygments_lexer": "ipython3",
   "version": "3.12.4"
  }
 },
 "nbformat": 4,
 "nbformat_minor": 2
}
